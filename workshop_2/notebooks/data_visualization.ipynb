{
 "cells": [
  {
   "cell_type": "markdown",
   "metadata": {},
   "source": [
    "# Data Exploration and Visualization\n",
    "## The Boston Housing Dataset\n"
   ]
  },
  {
   "cell_type": "markdown",
   "metadata": {},
   "source": [
    "### Context\n",
    "The dataset for this project originates from the UCI Machine Learning Repository. The Boston housing data was collected in 1978 and each of the 506 entries represent aggregated data about 14 features for homes from various suburbs in Boston, Massachusetts.\n",
    "\n",
    "### Acknowledgements\n",
    "https://www.kaggle.com/datasets/schirmerchad/bostonhoustingmlnd\n",
    "\n",
    "https://github.com/udacity/machine-learning\n",
    "\n",
    "https://archive.ics.uci.edu/ml/datasets/Housing"
   ]
  },
  {
   "cell_type": "markdown",
   "metadata": {},
   "source": [
    "## Tools\n",
    "\n",
    "### Pandas\n",
    "Pandas is a popular open-source data analysis and manipulation library for Python. It provides easy-to-use data structures and data analysis tools to help users handle and analyze large datasets effectively.\n",
    "\n",
    "Pandas introduces two new data structures to Python - Series and DataFrame - which allow for easier manipulation and analysis of data. Series represents a one-dimensional labeled array while DataFrame represents a two-dimensional labeled data structure with columns of potentially different types.\n",
    "\n",
    "Pandas also provides various functions for data cleaning, preparation, and exploration, including grouping, merging, reshaping, and pivoting. In addition, it supports a wide range of data input and output formats, including CSV, Excel, SQL databases, and more.\n",
    "\n",
    "Pandas is widely used in industries such as finance, economics, social sciences, and engineering. It is also used in data science and machine learning workflows.\n",
    "\n",
    "To learn more about Pandas, you can visit the official documentation page at https://pandas.pydata.org/docs/ or install it using package managers such as pip or conda.\n",
    "\n",
    "### Matplotlib\n",
    "\n",
    "Matplotlib is a Python plotting library that provides a wide variety of visualization tools for displaying data in 2D and 3D. With Matplotlib, users can create a range of static, animated, and interactive visualizations in Python.\n",
    "\n",
    "Matplotlib is widely used in the scientific Python community for creating publication-quality figures and can be used to create plots of different types, including line plots, scatter plots, bar plots, histograms, and many others.\n",
    "\n",
    "Here are some links to the Matplotlib documentation and package:\n",
    "\n",
    "Documentation: https://matplotlib.org/stable/contents.html\n",
    "Package: https://pypi.org/project/matplotlib/"
   ]
  },
  {
   "cell_type": "code",
   "execution_count": null,
   "metadata": {},
   "outputs": [],
   "source": [
    "import pandas as pd\n",
    "import matplotlib.pyplot as plt"
   ]
  },
  {
   "cell_type": "code",
   "execution_count": null,
   "metadata": {},
   "outputs": [],
   "source": [
    "df = pd.read_csv('housing_prices.csv')"
   ]
  },
  {
   "cell_type": "code",
   "execution_count": null,
   "metadata": {},
   "outputs": [],
   "source": [
    "df.head(20)"
   ]
  },
  {
   "cell_type": "code",
   "execution_count": null,
   "metadata": {},
   "outputs": [],
   "source": [
    "df.describe()"
   ]
  },
  {
   "cell_type": "code",
   "execution_count": null,
   "metadata": {},
   "outputs": [],
   "source": [
    "plt.scatter(df['RM'],df['MEDV'])\n",
    "plt.xlabel('Number of Rooms')\n",
    "plt.ylabel('Median Value')\n",
    "plt.show()"
   ]
  },
  {
   "cell_type": "code",
   "execution_count": null,
   "metadata": {},
   "outputs": [],
   "source": []
  }
 ],
 "metadata": {
  "kernelspec": {
   "display_name": "Python 3",
   "language": "python",
   "name": "python3"
  },
  "language_info": {
   "codemirror_mode": {
    "name": "ipython",
    "version": 3
   },
   "file_extension": ".py",
   "mimetype": "text/x-python",
   "name": "python",
   "nbconvert_exporter": "python",
   "pygments_lexer": "ipython3",
   "version": "3.8.10"
  }
 },
 "nbformat": 4,
 "nbformat_minor": 2
}
